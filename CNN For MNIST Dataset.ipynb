{
 "cells": [
  {
   "cell_type": "markdown",
   "metadata": {},
   "source": [
    "# Convolution Neural Networks"
   ]
  },
  {
   "cell_type": "markdown",
   "metadata": {},
   "source": [
    "- Building a small Convnet to classify MNIST Dataset"
   ]
  },
  {
   "cell_type": "code",
   "execution_count": 2,
   "metadata": {},
   "outputs": [
    {
     "name": "stderr",
     "output_type": "stream",
     "text": [
      "Using TensorFlow backend.\n"
     ]
    }
   ],
   "source": [
    "from keras.layers import *\n",
    "from keras.models import *"
   ]
  },
  {
   "cell_type": "code",
   "execution_count": 14,
   "metadata": {},
   "outputs": [],
   "source": [
    "# Creating model\n",
    "\n",
    "model = Sequential()\n",
    "model.add(Conv2D(32,(3,3),activation='relu',input_shape=(28,28,1)))\n",
    "model.add(MaxPool2D((2,2)))\n",
    "model.add(Conv2D(64,(3,3),activation='relu'))\n",
    "model.add(MaxPool2D((2,2)))\n",
    "model.add(Conv2D(64,(3,3),activation='relu'))\n",
    "model.add(Flatten())\n",
    "model.add(Dense(64,activation='relu'))\n",
    "model.add(Dense(10,activation='softmax')) # in this layer i keep the number of neurons as 10 because according to the dataset i can have an output among the 10 outputs only          "
   ]
  },
  {
   "cell_type": "code",
   "execution_count": 15,
   "metadata": {},
   "outputs": [
    {
     "name": "stdout",
     "output_type": "stream",
     "text": [
      "Model: \"sequential_7\"\n",
      "_________________________________________________________________\n",
      "Layer (type)                 Output Shape              Param #   \n",
      "=================================================================\n",
      "conv2d_13 (Conv2D)           (None, 26, 26, 32)        320       \n",
      "_________________________________________________________________\n",
      "max_pooling2d_11 (MaxPooling (None, 13, 13, 32)        0         \n",
      "_________________________________________________________________\n",
      "conv2d_14 (Conv2D)           (None, 11, 11, 64)        18496     \n",
      "_________________________________________________________________\n",
      "max_pooling2d_12 (MaxPooling (None, 5, 5, 64)          0         \n",
      "_________________________________________________________________\n",
      "conv2d_15 (Conv2D)           (None, 3, 3, 64)          36928     \n",
      "_________________________________________________________________\n",
      "flatten_2 (Flatten)          (None, 576)               0         \n",
      "_________________________________________________________________\n",
      "dense_1 (Dense)              (None, 64)                36928     \n",
      "_________________________________________________________________\n",
      "dense_2 (Dense)              (None, 10)                650       \n",
      "=================================================================\n",
      "Total params: 93,322\n",
      "Trainable params: 93,322\n",
      "Non-trainable params: 0\n",
      "_________________________________________________________________\n"
     ]
    }
   ],
   "source": [
    "model.summary()"
   ]
  },
  {
   "cell_type": "code",
   "execution_count": 16,
   "metadata": {},
   "outputs": [],
   "source": [
    "# We will be adding some regularization like dropouts later "
   ]
  },
  {
   "cell_type": "code",
   "execution_count": 28,
   "metadata": {},
   "outputs": [],
   "source": [
    "from keras.datasets import mnist\n",
    "from keras.utils import to_categorical # so that i can convert my outputs into one-hot vector"
   ]
  },
  {
   "cell_type": "code",
   "execution_count": 29,
   "metadata": {},
   "outputs": [],
   "source": [
    "(XTrain,YTrain),(XTest,YTest) = mnist.load_data()"
   ]
  },
  {
   "cell_type": "code",
   "execution_count": 30,
   "metadata": {},
   "outputs": [
    {
     "data": {
      "text/plain": [
       "(60000, 28, 28)"
      ]
     },
     "execution_count": 30,
     "metadata": {},
     "output_type": "execute_result"
    }
   ],
   "source": [
    "XTrain.shape"
   ]
  },
  {
   "cell_type": "code",
   "execution_count": 31,
   "metadata": {},
   "outputs": [],
   "source": [
    "def preprocess_data(X,Y):\n",
    "    X = X.reshape((-1,28,28,1))\n",
    "    X = X/255.0\n",
    "    \n",
    "    Y = to_categorical(Y)\n",
    "    return X,Y"
   ]
  },
  {
   "cell_type": "code",
   "execution_count": 32,
   "metadata": {},
   "outputs": [
    {
     "name": "stdout",
     "output_type": "stream",
     "text": [
      "(60000, 28, 28, 1) (60000, 10)\n"
     ]
    }
   ],
   "source": [
    "XTrain,YTrain=preprocess_data(XTrain,YTrain)\n",
    "print(XTrain.shape,YTrain.shape)"
   ]
  },
  {
   "cell_type": "code",
   "execution_count": 33,
   "metadata": {},
   "outputs": [
    {
     "name": "stdout",
     "output_type": "stream",
     "text": [
      "(10000, 28, 28, 1) (10000, 10)\n"
     ]
    }
   ],
   "source": [
    "XTest,YTest = preprocess_data(XTest,YTest)\n",
    "print(XTest.shape,YTest.shape)"
   ]
  },
  {
   "cell_type": "code",
   "execution_count": 34,
   "metadata": {},
   "outputs": [],
   "source": [
    "# Compile Model\n",
    "model.compile(optimizer='adam', loss='categorical_crossentropy',metrics=['accuracy'])"
   ]
  },
  {
   "cell_type": "code",
   "execution_count": 37,
   "metadata": {},
   "outputs": [
    {
     "name": "stdout",
     "output_type": "stream",
     "text": [
      "Train on 54000 samples, validate on 6000 samples\n",
      "Epoch 1/16\n",
      "54000/54000 [==============================] - 18s 342us/step - loss: 0.0042 - accuracy: 0.9988 - val_loss: 0.0313 - val_accuracy: 0.9935\n",
      "Epoch 2/16\n",
      "54000/54000 [==============================] - 17s 319us/step - loss: 0.0020 - accuracy: 0.9992 - val_loss: 0.0227 - val_accuracy: 0.9955\n",
      "Epoch 3/16\n",
      "54000/54000 [==============================] - 19s 358us/step - loss: 0.0024 - accuracy: 0.9992 - val_loss: 0.0334 - val_accuracy: 0.9930\n",
      "Epoch 4/16\n",
      "54000/54000 [==============================] - 17s 317us/step - loss: 0.0043 - accuracy: 0.9985 - val_loss: 0.0300 - val_accuracy: 0.9950\n",
      "Epoch 5/16\n",
      "54000/54000 [==============================] - 17s 307us/step - loss: 5.4162e-04 - accuracy: 0.9998 - val_loss: 0.0253 - val_accuracy: 0.9958\n",
      "Epoch 6/16\n",
      "54000/54000 [==============================] - 17s 308us/step - loss: 2.5108e-04 - accuracy: 0.9999 - val_loss: 0.0306 - val_accuracy: 0.9958\n",
      "Epoch 7/16\n",
      "54000/54000 [==============================] - 17s 311us/step - loss: 4.8577e-04 - accuracy: 0.9999 - val_loss: 0.0280 - val_accuracy: 0.9957\n",
      "Epoch 8/16\n",
      "54000/54000 [==============================] - 17s 310us/step - loss: 1.5039e-05 - accuracy: 1.0000 - val_loss: 0.0295 - val_accuracy: 0.9957\n",
      "Epoch 9/16\n",
      "54000/54000 [==============================] - 17s 318us/step - loss: 1.1381e-05 - accuracy: 1.0000 - val_loss: 0.0293 - val_accuracy: 0.9958\n",
      "Epoch 10/16\n",
      "54000/54000 [==============================] - 18s 341us/step - loss: 5.6804e-06 - accuracy: 1.0000 - val_loss: 0.0297 - val_accuracy: 0.9960\n",
      "Epoch 11/16\n",
      "54000/54000 [==============================] - 18s 329us/step - loss: 4.3151e-06 - accuracy: 1.0000 - val_loss: 0.0300 - val_accuracy: 0.9960\n",
      "Epoch 12/16\n",
      "54000/54000 [==============================] - 21s 395us/step - loss: 3.4278e-06 - accuracy: 1.0000 - val_loss: 0.0304 - val_accuracy: 0.9960\n",
      "Epoch 13/16\n",
      "54000/54000 [==============================] - 19s 353us/step - loss: 2.7712e-06 - accuracy: 1.0000 - val_loss: 0.0307 - val_accuracy: 0.9960\n",
      "Epoch 14/16\n",
      "54000/54000 [==============================] - 18s 333us/step - loss: 2.2194e-06 - accuracy: 1.0000 - val_loss: 0.0309 - val_accuracy: 0.9960\n",
      "Epoch 15/16\n",
      "54000/54000 [==============================] - 19s 359us/step - loss: 1.7967e-06 - accuracy: 1.0000 - val_loss: 0.0314 - val_accuracy: 0.9960\n",
      "Epoch 16/16\n",
      "54000/54000 [==============================] - 19s 357us/step - loss: 1.4683e-06 - accuracy: 1.0000 - val_loss: 0.0317 - val_accuracy: 0.9962\n"
     ]
    }
   ],
   "source": [
    "# Training\n",
    "hist = model.fit(XTrain,YTrain,epochs=16,validation_split=0.1,batch_size=128)"
   ]
  },
  {
   "cell_type": "code",
   "execution_count": 38,
   "metadata": {},
   "outputs": [
    {
     "name": "stdout",
     "output_type": "stream",
     "text": [
      "10000/10000 [==============================] - 1s 84us/step\n"
     ]
    },
    {
     "data": {
      "text/plain": [
       "[0.04348226104456771, 0.9939000010490417]"
      ]
     },
     "execution_count": 38,
     "metadata": {},
     "output_type": "execute_result"
    }
   ],
   "source": [
    "model.evaluate(XTest,YTest)"
   ]
  },
  {
   "cell_type": "code",
   "execution_count": null,
   "metadata": {},
   "outputs": [],
   "source": []
  }
 ],
 "metadata": {
  "kernelspec": {
   "display_name": "Python 3",
   "language": "python",
   "name": "python3"
  },
  "language_info": {
   "codemirror_mode": {
    "name": "ipython",
    "version": 3
   },
   "file_extension": ".py",
   "mimetype": "text/x-python",
   "name": "python",
   "nbconvert_exporter": "python",
   "pygments_lexer": "ipython3",
   "version": "3.7.6"
  }
 },
 "nbformat": 4,
 "nbformat_minor": 4
}
